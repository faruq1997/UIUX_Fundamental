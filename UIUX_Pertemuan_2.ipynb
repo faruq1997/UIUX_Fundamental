{
  "nbformat": 4,
  "nbformat_minor": 0,
  "metadata": {
    "colab": {
      "provenance": []
    },
    "kernelspec": {
      "name": "python3",
      "display_name": "Python 3"
    },
    "language_info": {
      "name": "python"
    }
  },
  "cells": [
    {
      "cell_type": "markdown",
      "source": [
        "# Instruksi Diskusi Kelompok – UI/UX\n",
        "\n",
        "Topik: Analisis Komponen UI & UX pada Aplikasi Website / Mobile\n",
        "\n",
        "Tujuan:\n",
        "\n",
        "1. Melatih kemampuan mengidentifikasi elemen UI (tampilan visual: tombol, icon, form, layout, warna, tipografi).\n",
        "2. Melatih kemampuan menganalisis UX (alur interaksi, konsistensi, kemudahan penggunaan, kepuasan pengguna).\n",
        "3. Memberi saran perbaikan desain berdasarkan analisis."
      ],
      "metadata": {
        "id": "tRdnGwoe4MtX"
      }
    },
    {
      "cell_type": "markdown",
      "source": [
        "## Pembagian Kelompok\n",
        "\n",
        "Tiap kelompok terdiri dari 3 orang.\n",
        "\n",
        "Karena total ada 14 mahasiswa, akan terbentuk 4 kelompok isi 3 orang + 1 kelompok isi 2 orang (atau gabung jadi 4 orang di satu kelompok)."
      ],
      "metadata": {
        "id": "uMFFarWN4-Pv"
      }
    },
    {
      "cell_type": "markdown",
      "source": [
        "### Tugas Kelompok\n",
        "\n",
        "Pilih 1 aplikasi (boleh mobile atau website). Contoh: Shopee, Spotify, BCA Mobile, LinkedIn, Tokopedia, Traveloka.\n",
        "\n",
        "Identifikasi minimal 3 komponen UI dari aplikasi tersebut.\n",
        "\n",
        "Contoh: tombol navigasi, search bar, card produk.\n",
        "\n",
        "Analisis 1 alur UX (user flow).\n",
        "\n",
        "Contoh: alur “mencari barang → menambahkan ke keranjang → checkout” di e-commerce.\n",
        "\n",
        "Berikan 1 saran perbaikan berdasarkan analisis.\n",
        "\n",
        "Contoh: warna tombol checkout kurang kontras → usulkan warna yang lebih jelas.\n",
        "\n",
        "🕒 Waktu\n",
        "\n",
        "Diskusi: 20 menit\n",
        "\n",
        "Presentasi: 3 menit per kelompok\n",
        "\n",
        "Tanya jawab: 2 menit\n",
        "\n",
        "📊 Output\n",
        "\n",
        "Hasil diskusi ditulis di lembar kertas / slide singkat:\n",
        "\n",
        "Nama aplikasi yang dianalisis\n",
        "\n",
        "3 komponen UI yang ditemukan\n",
        "\n",
        "1 alur UX yang dijelaskan\n",
        "\n",
        "1 saran perbaikan"
      ],
      "metadata": {
        "id": "f00wQENx5N1D"
      }
    },
    {
      "cell_type": "markdown",
      "source": [
        "## Lembar Kerja: [Download di sini](https://view.officeapps.live.com/op/view.aspx?src=https%3A%2F%2Fraw.githubusercontent.com%2Ffaruq1997%2FUIUX_Fundamental%2Frefs%2Fheads%2Fmain%2Ftemplate_lembar_kerja_UIUX.docx&wdOrigin=BROWSELINK), alternatif di sini: [Link Alternatif](https://github.com/faruq1997/UIUX_Fundamental/blob/main/template_lembar_kerja_UIUX.docx)"
      ],
      "metadata": {
        "id": "uugFgGfF7IYG"
      }
    },
    {
      "cell_type": "markdown",
      "source": [
        "## Contoh Kasus (Sebagai Gambaran untuk Mahasiswa)"
      ],
      "metadata": {
        "id": "E2yYeo5P4uyM"
      }
    },
    {
      "cell_type": "markdown",
      "source": [
        "### Aplikasi: Tokopedia Tiktok (Mobile)\n",
        "\n",
        "| No | Komponen UI     | Contoh di Aplikasi                                   | Analisis Singkat                                               |\n",
        "| -- | --------------- | ---------------------------------------------------- | -------------------------------------------------------------- |\n",
        "| 1  | Tombol Navigasi | Ikon “Home”, “Kategori”, “Keranjang” di bagian bawah | Mudah ditemukan, konsisten di setiap halaman                   |\n",
        "| 2  | Search Bar      | Kolom pencarian di bagian atas                       | Cepat diakses, auto-suggest membantu pengguna menemukan produk |\n",
        "| 3  | Card Produk     | Tampilan produk dengan gambar, harga, rating         | Informasi jelas, tapi teks harga agak kecil                    |\n",
        "\n",
        "\n",
        "\n",
        "Alur UX yang dianalisis:\n",
        "Pengguna mencari barang → klik produk → tambah ke keranjang → checkout → pilih metode pembayaran → selesai.\n",
        "\n",
        "\n",
        "\n",
        "Saran Perbaikan:\n",
        "Ukuran font harga pada card produk sebaiknya diperbesar agar lebih terbaca, terutama oleh pengguna yang melihat di layar kecil."
      ],
      "metadata": {
        "id": "0DxheHtn5FBa"
      }
    }
  ]
}